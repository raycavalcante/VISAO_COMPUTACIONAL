{
 "cells": [
  {
   "cell_type": "code",
   "execution_count": 8,
   "metadata": {},
   "outputs": [],
   "source": [
    "import cv2 as cv"
   ]
  },
  {
   "cell_type": "code",
   "execution_count": 2,
   "metadata": {},
   "outputs": [],
   "source": [
    "# captura = cv.VideoCapture('22_video/serie.mp4')\n",
    "\n",
    "# while captura.isOpened():\n",
    "#     ret, frame = captura.read()\n",
    "#     cv.imshow('Frame',frame)\n",
    "#     if cv.waitKey(1) & 0xFF == ord('q'):\n",
    "#         break\n",
    "# captura.release()\n",
    "# cv.destroyAllWindows()\n"
   ]
  },
  {
   "cell_type": "code",
   "execution_count": 14,
   "metadata": {},
   "outputs": [],
   "source": [
    "# lendo a imagem no disco \n",
    "imagem = cv.imread('22_imagem/people1.jpg')\n",
    "# Apresentando a imagem \n",
    "cv.imshow('Lendo imagem', imagem)\n",
    "# definindo a tecla para fechar a janela \n",
    "cv.waitKey(0)\n",
    "# fechado a janela \n",
    "cv.destroyAllWindows()"
   ]
  }
 ],
 "metadata": {
  "kernelspec": {
   "display_name": "Python 3",
   "language": "python",
   "name": "python3"
  },
  "language_info": {
   "codemirror_mode": {
    "name": "ipython",
    "version": 3
   },
   "file_extension": ".py",
   "mimetype": "text/x-python",
   "name": "python",
   "nbconvert_exporter": "python",
   "pygments_lexer": "ipython3",
   "version": "3.13.3"
  }
 },
 "nbformat": 4,
 "nbformat_minor": 2
}
