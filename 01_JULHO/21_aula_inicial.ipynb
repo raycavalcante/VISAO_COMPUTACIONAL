{
 "cells": [
  {
   "cell_type": "code",
   "execution_count": 1,
   "metadata": {},
   "outputs": [],
   "source": [
    "# importando a biblioteca opencv \n",
    "# pip install opencv-python \n",
    "import cv2 as cv\n",
    "# lendo a imagem no disco \n",
    "imagem = cv.imread('21_imagem/sul.jpg')\n",
    "# Apresentando a imagem \n",
    "cv.imshow('Lendo imagem', imagem)\n",
    "# definindo a tecla para fechar a janela \n",
    "cv.waitKey(0)\n",
    "# fechado a janela \n",
    "cv.destroyAllWindows()"
   ]
  },
  {
   "cell_type": "code",
   "execution_count": null,
   "metadata": {},
   "outputs": [],
   "source": []
  }
 ],
 "metadata": {
  "kernelspec": {
   "display_name": "Python 3",
   "language": "python",
   "name": "python3"
  },
  "language_info": {
   "codemirror_mode": {
    "name": "ipython",
    "version": 3
   },
   "file_extension": ".py",
   "mimetype": "text/x-python",
   "name": "python",
   "nbconvert_exporter": "python",
   "pygments_lexer": "ipython3",
   "version": "3.13.3"
  }
 },
 "nbformat": 4,
 "nbformat_minor": 2
}
